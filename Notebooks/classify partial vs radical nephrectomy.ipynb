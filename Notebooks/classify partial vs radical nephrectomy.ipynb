{
 "cells": [
  {
   "cell_type": "code",
   "execution_count": 1,
   "id": "e14d4eba",
   "metadata": {},
   "outputs": [],
   "source": [
    "import pandas as pd\n",
    "import numpy as np\n",
    "import matplotlib.pyplot as plt\n",
    "import seaborn as sns\n",
    "from datetime import datetime\n",
    "import warnings\n",
    "warnings.filterwarnings('ignore')\n",
    "#pd.set_option('display.max_columns', None)"
   ]
  },
  {
   "cell_type": "markdown",
   "id": "e8efb177",
   "metadata": {},
   "source": [
    "### Deliverables\n",
    "PN vs RN: <br>\n",
    "    - test Hypothesis: indexing “partial nephrectomy”, “deep margin”, “renal mass” from \"Final Diagnosis\" can classify reliably PN vs RN\n",
    "        - find out how many PNs vs (according to gross description keywords) don't have these terms\n",
    "\n",
    "### Workflow\n",
    "1. Load path_to_class_022524.csv, transposed pathology_report with gross description, final diagnosis and clinical history columns\n",
    "2. Classify keep vs. not with \"nephrectomy, kidney tumor, renal mass\" in \"Final Diagnosis\"\n",
    "3. Turn into flow with csv input after finalizing classificaiton rules"
   ]
  },
  {
   "cell_type": "markdown",
   "id": "2386c049",
   "metadata": {},
   "source": [
    "### Functions"
   ]
  },
  {
   "cell_type": "code",
   "execution_count": 2,
   "id": "dfc51958",
   "metadata": {},
   "outputs": [],
   "source": [
    "def sample(df, purpose_str, keep_ind, keeps_per_class, nokeeps_per_class, random_state=None):\n",
    "    keep_df = df[df[keep_ind] == 1]  # Subset where keep_ind is 1\n",
    "    nokeep_df = df[df[keep_ind] == 0]  # Subset where keep_ind is 0\n",
    "\n",
    "    sample_1 = keep_df.sample(keeps_per_class, random_state=random_state)  # random_state for reproducibility\n",
    "    sample_0 = nokeep_df.sample(nokeeps_per_class, random_state=random_state)\n",
    "    \n",
    "    sample_full=pd.concat([sample_1, sample_0])[['procedure_name', 'final diagnosis_10950', 'clinical history_9935', 'gross description_1230000151',\n",
    "                                                 'gross description_9997',keep_ind]]\n",
    "    sample_full.reset_index(drop=True, inplace=True)\n",
    "    #export\n",
    "    sample_full.to_csv('sample_'+purpose_str+str(random_state)+'.csv')"
   ]
  },
  {
   "cell_type": "code",
   "execution_count": 3,
   "id": "c86fa4bc",
   "metadata": {},
   "outputs": [],
   "source": [
    "def should_keep(row, columns_to_check, keywords_to_keep):\n",
    "    for column in columns_to_check:\n",
    "        value = row[column]\n",
    "        if any(keyword in str(value).lower() for keyword in keywords_to_keep):\n",
    "            return 1\n",
    "    return 0"
   ]
  },
  {
   "cell_type": "code",
   "execution_count": 4,
   "id": "e168614f",
   "metadata": {},
   "outputs": [],
   "source": [
    "def exclude(row, columns_to_check, keywords_to_exclude):\n",
    "    for column in columns_to_check:\n",
    "        value = row[column]\n",
    "        if any(keyword in str(value).lower() for keyword in keywords_to_exclude):\n",
    "            return 0\n",
    "    return 1"
   ]
  },
  {
   "cell_type": "code",
   "execution_count": 5,
   "id": "e20c69bb",
   "metadata": {},
   "outputs": [],
   "source": [
    "def keep_excl(value):\n",
    "    if any(keyword in value for keyword in keywords_to_keep):\n",
    "        if not any(exclude_keyword in value for exclude_keyword in keywords_exclude):\n",
    "            return 1\n",
    "    return 0"
   ]
  },
  {
   "cell_type": "markdown",
   "id": "9660fe57",
   "metadata": {},
   "source": [
    "### 1. Load path reports with all external_names, retain rows where value contains \"kidney/renal\""
   ]
  },
  {
   "cell_type": "code",
   "execution_count": 6,
   "id": "0f585858",
   "metadata": {},
   "outputs": [],
   "source": [
    "path_to_class_pnrn = pd.read_csv(\"path_to_class_022524.csv\", index_col=0)"
   ]
  },
  {
   "cell_type": "code",
   "execution_count": 7,
   "id": "c7757975",
   "metadata": {},
   "outputs": [
    {
     "name": "stdout",
     "output_type": "stream",
     "text": [
      "1158 patients with pathology reports to classify\n"
     ]
    }
   ],
   "source": [
    "print(f\"{path_to_class_pnrn.pat_id.nunique()} patients with pathology reports to classify\")"
   ]
  },
  {
   "cell_type": "markdown",
   "id": "ea22b230",
   "metadata": {},
   "source": [
    "### 2. Classify PN vs. RN with \n",
    "partial nephrectomy: idnexed with “partial nephrectomy”, “deep margin”, “renal mass” in \"Final Diagnosis\" <br>\n",
    "How many pn=1 (according to gross description keywords) don't have these terms in Final Diagnosis"
   ]
  },
  {
   "cell_type": "markdown",
   "id": "bae7b0d8",
   "metadata": {},
   "source": [
    "3a. Define Keywords"
   ]
  },
  {
   "cell_type": "code",
   "execution_count": 8,
   "id": "a8a7ebed",
   "metadata": {},
   "outputs": [],
   "source": [
    "pn_fd = ['partial nephrectomy', 'deep margin', 'renal mass'] #fd: final diagnosis \n",
    "pn_gd = [\"partial nephrect\", \"heminephrect\", \"hemi-nephrect\"] #gd: gross description "
   ]
  },
  {
   "cell_type": "markdown",
   "id": "b1419676",
   "metadata": {},
   "source": [
    "Classify based on Gross Description"
   ]
  },
  {
   "cell_type": "code",
   "execution_count": 9,
   "id": "79340971",
   "metadata": {},
   "outputs": [],
   "source": [
    "path_to_class_pnrn['pn_gd_ind']=path_to_class_pnrn.apply(lambda row: should_keep(row, ['gross description_9997', 'gross description_1230000151']\n",
    "                                                                         , pn_gd), axis=1)\n",
    "path_to_class_pnrn['pn_fd_ind']=path_to_class_pnrn.apply(lambda row: should_keep(row, ['final diagnosis_10950']\n",
    "                                                                         , pn_fd), axis=1)"
   ]
  },
  {
   "cell_type": "markdown",
   "id": "5558d3df",
   "metadata": {},
   "source": [
    "Instances of pn_gd_ind = 1 but \"final diagnosis\" does not contain ['partial nephrectomy', 'deep margin', 'renal mass']"
   ]
  },
  {
   "cell_type": "code",
   "execution_count": 10,
   "id": "e6624368",
   "metadata": {},
   "outputs": [],
   "source": [
    "path_pngd_nofdkeys=path_to_class_pnrn[(path_to_class_pnrn['pn_gd_ind']==1) & (path_to_class_pnrn['pn_fd_ind']==0)].reset_index(drop=True)"
   ]
  },
  {
   "cell_type": "code",
   "execution_count": 11,
   "id": "18d797a5",
   "metadata": {},
   "outputs": [
    {
     "name": "stdout",
     "output_type": "stream",
     "text": [
      "12 observations concerning 10 patients are classified as PN under pn_gd but not pn_fd.\n"
     ]
    }
   ],
   "source": [
    "print(f\"{len(path_pngd_nofdkeys)} observations concerning {path_pngd_nofdkeys.pat_id.nunique()} patients are classified as PN under pn_gd but not pn_fd.\")"
   ]
  },
  {
   "cell_type": "markdown",
   "id": "7a84bde2",
   "metadata": {},
   "source": [
    "### Validate: sample of 100 using final diagnosis to classify"
   ]
  },
  {
   "cell_type": "code",
   "execution_count": 13,
   "id": "b0c345bb",
   "metadata": {
    "scrolled": false
   },
   "outputs": [],
   "source": [
    "path_to_class_pnrn_valid_fd = path_to_class_pnrn[path_to_class_pnrn['final diagnosis_10950'].notna()]\n",
    "sample(path_to_class_pnrn_valid_fd, \"pn_fd_\", 'pn_fd_ind', 50, 50, random_state=8)\n",
    "# sample_pn_fd = pd.read_csv(\"sample_pn_fd.csv\", index_col=0)"
   ]
  },
  {
   "cell_type": "markdown",
   "id": "402d667f",
   "metadata": {},
   "source": [
    "All correct!"
   ]
  },
  {
   "cell_type": "code",
   "execution_count": null,
   "id": "ad6f4bce",
   "metadata": {},
   "outputs": [],
   "source": []
  },
  {
   "cell_type": "code",
   "execution_count": null,
   "id": "74a9a954",
   "metadata": {},
   "outputs": [],
   "source": []
  }
 ],
 "metadata": {
  "kernelspec": {
   "display_name": "Python 3 (ipykernel)",
   "language": "python",
   "name": "python3"
  },
  "language_info": {
   "codemirror_mode": {
    "name": "ipython",
    "version": 3
   },
   "file_extension": ".py",
   "mimetype": "text/x-python",
   "name": "python",
   "nbconvert_exporter": "python",
   "pygments_lexer": "ipython3",
   "version": "3.10.9"
  }
 },
 "nbformat": 4,
 "nbformat_minor": 5
}
