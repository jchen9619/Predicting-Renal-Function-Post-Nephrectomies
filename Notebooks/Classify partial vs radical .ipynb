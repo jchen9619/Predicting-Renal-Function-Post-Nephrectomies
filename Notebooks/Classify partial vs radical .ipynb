{
 "cells": [
  {
   "cell_type": "code",
   "execution_count": 1,
   "id": "09d27614",
   "metadata": {},
   "outputs": [],
   "source": [
    "import pandas as pd\n",
    "import numpy as np\n",
    "import matplotlib.pyplot as plt\n",
    "import seaborn as sns\n",
    "from datetime import datetime\n",
    "import warnings\n",
    "warnings.filterwarnings('ignore')"
   ]
  },
  {
   "cell_type": "markdown",
   "id": "45d89f46",
   "metadata": {},
   "source": [
    "Helper functions, to apply keep and exclude keyword lists"
   ]
  },
  {
   "cell_type": "code",
   "execution_count": 2,
   "id": "db979fb7",
   "metadata": {},
   "outputs": [],
   "source": [
    "def keep(row, columns_to_check, keywords_to_keep):\n",
    "    for column in columns_to_check:\n",
    "        value = row[column]\n",
    "        if any(keyword in str(value).lower() for keyword in keywords_to_keep):\n",
    "            return 1\n",
    "    return 0"
   ]
  },
  {
   "cell_type": "code",
   "execution_count": 3,
   "id": "fc419e9e",
   "metadata": {},
   "outputs": [],
   "source": [
    "def exclude(row, columns_to_check, keywords_to_exclude):\n",
    "    for column in columns_to_check:\n",
    "        value = row[column]\n",
    "        if any(keyword in str(value).lower() for keyword in keywords_to_exclude):\n",
    "            return 0\n",
    "    return 1"
   ]
  },
  {
   "cell_type": "markdown",
   "id": "69639ffd",
   "metadata": {},
   "source": [
    "Workflow function"
   ]
  },
  {
   "cell_type": "code",
   "execution_count": 4,
   "id": "c36e23f1",
   "metadata": {},
   "outputs": [],
   "source": [
    "def filter(keep_csv_path, excl_csv_path, path_to_class_path):\n",
    "    keywords_keep = pd.read_csv(keep_csv_path, header=None, index_col=False)\n",
    "    keywords_exclude = pd.read_csv(excl_csv_path, header=None, index_col=False)\n",
    "    path_to_class =pd.read_csv(path_to_class_path, index_col=False)\n",
    "\n",
    "    #convert csvs to lower case of strings \n",
    "    keep_l = keywords_keep.values.flatten().tolist()\n",
    "    excl_l= keywords_exclude.values.flatten().tolist()\n",
    "\n",
    "    #output records to keep\n",
    "    columns_to_check = ['Clinical History', 'Gross Description','Final Diagnosis', \n",
    "           'Addendum Reason: Additional Interpretive Information',\n",
    "           'Addendum Reason: Additional Tissue Samples',\n",
    "           'Addendum Reason: Electron Microscopy Results',\n",
    "           'Addendum Reason: Hematopathology Consultation',\n",
    "           'Addendum Reason: Immunohistochemistry Analysis',\n",
    "           'Addendum Reason: Outside Consultation',\n",
    "           'Addendum Reason: See Addendum Text Below',\n",
    "           'Addendum Reason: Send Out Test',\n",
    "           'Addendum Reason: Special Stains Results',\n",
    "           'Additional interpretation/findings', 'Chromosome Analysis',\n",
    "           'Clinical Indication', 'Clinical Information',\n",
    "           'Clinicopathologic Correlation', 'Code Of Sections', 'Comments',\n",
    "           'Correction Reason', \n",
    "           'Internal Examination', 'Intraoperative Consultation',\n",
    "           'Microscopic Description', 'Specimen A', 'Specimen B', 'Specimen C',\n",
    "           'Specimen Information', 'Specimen Source']\n",
    "\n",
    "    path_to_class['keep_ind']=path_to_class.apply(lambda row: keep(row, columns_to_check, keep_l), axis=1)\n",
    "\n",
    "        #export lists: keep and not keep under keywords_keep\n",
    "    path_keep = path_to_class[path_to_class['keep_ind']==1]\n",
    "    path_not_keep = path_to_class[path_to_class['keep_ind']==0]\n",
    "    #sanity checks\n",
    "    if len(path_keep) + len(path_not_keep) == len(path_to_class):\n",
    "        path_keep.to_csv('output/path_keep=1.csv',index=False)\n",
    "        path_not_keep.to_csv('output/path_keep=0.csv',index=False)\n",
    "    else:\n",
    "        print(\"Error classifying with keep_keywords!\")\n",
    "\n",
    "    #output records to exclude\n",
    "    path_keep['keep_ind_post_excl']=path_keep.apply(lambda row: exclude(row, columns_to_check, excl_l), axis=1)\n",
    "        #export lists: keep and not keep after keywords_keep and keywords_exclude\n",
    "    path_keep_post_excl_l = path_keep[path_keep['keep_ind_post_excl']==1]\n",
    "    path_excl_post_excl_l = path_keep[path_keep['keep_ind_post_excl']==0]\n",
    "    #sanity check\n",
    "    if len(path_keep_post_excl_l) + len(path_excl_post_excl_l) == len(path_keep):\n",
    "        path_keep_post_excl_l.to_csv('output/path_keep=1_post_excl_list.csv', index=False)\n",
    "        path_excl_post_excl_l.to_csv('output/path_keep=0_post_excl_list.csv', index=False)\n",
    "    else:\n",
    "        print(\"Error  classifying with exclude_keywords!\")"
   ]
  },
  {
   "cell_type": "code",
   "execution_count": 7,
   "id": "9e91154f",
   "metadata": {},
   "outputs": [],
   "source": [
    "filter(\"keywords_keep.csv\", \"keywords_exclude.csv\", \"path_to_classify_full_021524.csv\")"
   ]
  },
  {
   "cell_type": "markdown",
   "id": "c1ee52fe",
   "metadata": {},
   "source": [
    "To sample "
   ]
  },
  {
   "cell_type": "code",
   "execution_count": 8,
   "id": "a3d262f6",
   "metadata": {},
   "outputs": [],
   "source": [
    "def sample(df, purpose_str, keep_ind, keeps_per_class, nokeeps_per_class, random_state=None):\n",
    "    keep_df = df[df[keep_ind] == 1]  # Subset where keep_ind is 1\n",
    "    nokeep_df = df[df[keep_ind] == 0]  # Subset where keep_ind is 0\n",
    "\n",
    "    sample_1 = keep_df.sample(keeps_per_class, random_state=random_state)  # random_state for reproducibility\n",
    "    sample_0 = nokeep_df.sample(nokeeps_per_class, random_state=random_state)\n",
    "    \n",
    "    sample_full=pd.concat([sample_1, sample_0])[['procedure_name', 'Gross Description', 'Clinical History','Final Diagnosis', keep_ind]]\n",
    "    sample_full.reset_index(drop=True, inplace=True)\n",
    "    #export\n",
    "    sample_full.to_csv('sample_'+purpose_str+str(random_state)+'.csv')"
   ]
  },
  {
   "cell_type": "markdown",
   "id": "9e7d36ba",
   "metadata": {},
   "source": [
    "Example"
   ]
  },
  {
   "cell_type": "code",
   "execution_count": 9,
   "id": "59568ef2",
   "metadata": {},
   "outputs": [],
   "source": [
    "path_keep = pd.read_csv('output/path_keep=1.csv',index_col=0)\n",
    "sample(path_keep, \"keep_pos\", 'keep_ind', 100, 0, random_state=1)   #set keeps_per_class=0 if sampling from keep=0\n",
    "sample_keep_pos_1 = pd.read_csv('sample_keep_pos1.csv',index_col=0)"
   ]
  },
  {
   "cell_type": "code",
   "execution_count": null,
   "id": "b40ffa8f",
   "metadata": {},
   "outputs": [],
   "source": []
  }
 ],
 "metadata": {
  "kernelspec": {
   "display_name": "Python 3 (ipykernel)",
   "language": "python",
   "name": "python3"
  },
  "language_info": {
   "codemirror_mode": {
    "name": "ipython",
    "version": 3
   },
   "file_extension": ".py",
   "mimetype": "text/x-python",
   "name": "python",
   "nbconvert_exporter": "python",
   "pygments_lexer": "ipython3",
   "version": "3.10.9"
  }
 },
 "nbformat": 4,
 "nbformat_minor": 5
}
