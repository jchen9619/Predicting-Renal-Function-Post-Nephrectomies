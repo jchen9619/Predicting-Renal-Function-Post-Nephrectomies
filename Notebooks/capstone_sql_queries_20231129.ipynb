{
 "cells": [
  {
   "cell_type": "markdown",
   "metadata": {},
   "source": [
    "# NYU Urology Registry - Surgical History Kidney"
   ]
  },
  {
   "cell_type": "markdown",
   "metadata": {},
   "source": [
    "# REMEMBER TO SAVE IN H DRIVE"
   ]
  },
  {
   "cell_type": "markdown",
   "metadata": {},
   "source": [
    "## Importing modules"
   ]
  },
  {
   "cell_type": "code",
   "execution_count": 1,
   "metadata": {},
   "outputs": [],
   "source": [
    "import pandas as pd"
   ]
  },
  {
   "cell_type": "code",
   "execution_count": 2,
   "metadata": {},
   "outputs": [],
   "source": [
    "pd.options.display.max_columns = None\n",
    "pd.options.display.max_rows = None\n",
    "pd.set_option('display.max_colwidth', None)"
   ]
  },
  {
   "cell_type": "markdown",
   "metadata": {},
   "source": [
    "## Importing data"
   ]
  },
  {
   "cell_type": "markdown",
   "metadata": {},
   "source": [
    "### Connecting to DBMS"
   ]
  },
  {
   "cell_type": "code",
   "execution_count": 18,
   "metadata": {},
   "outputs": [],
   "source": [
    "import pyodbc\n",
    "\n",
    "connection_string = '''Driver=Cloudera ODBC Driver for Impala;Host=cdhprod.nyumc.org;Port=21050;AuthMech=1;KrbRealm=NYUMC.ORG;Krb FQDN=cdhprod.nyumc.org;KrbServiceName=impala;SSL=1;UseOnlySSPI=0;UseNativeQuery=0;UseKeytab=0;UseSystemTrustStore=1;''' \n",
    "connection = pyodbc.connect(connection_string, autocommit=True)"
   ]
  },
  {
   "cell_type": "markdown",
   "metadata": {},
   "source": [
    "### Converting SQL to dataframe"
   ]
  },
  {
   "cell_type": "markdown",
   "metadata": {},
   "source": [
    "GFR for patients undergoing nephrectomy"
   ]
  },
  {
   "cell_type": "code",
   "execution_count": 4,
   "metadata": {},
   "outputs": [],
   "source": [
    "# query01 = \"SELECT p.*, sh.surgery_date, sh.proc_id, sh.procedure_name, sh.performed, lr.component_name, lr.reference_unit, lr.numeric_value, lr.raw_value, lr.result_time FROM urology_hub.patient AS p INNER JOIN urology_hub.surgical_history AS sh ON p.pat_id = sh.pat_id LEFT JOIN urology_hub.lab_result AS lr ON p.pat_id = lr.pat_id AND lr.component_name LIKE '%GFR%' WHERE LOWER(sh.procedure_name) LIKE '%nephrec%'\""
   ]
  },
  {
   "cell_type": "code",
   "execution_count": 5,
   "metadata": {},
   "outputs": [
    {
     "name": "stdout",
     "output_type": "stream",
     "text": [
      "Wall time: 7.78 s\n"
     ]
    }
   ],
   "source": [
    "# %%time\n",
    "# df_query01 = pd.read_sql(query01, connection)\n",
    "# connection.close()"
   ]
  },
  {
   "cell_type": "markdown",
   "metadata": {},
   "source": [
    "A1c for patients undergoing nephrectomy. Pulling all 'hemoglobin' and can sort to get HbA1c."
   ]
  },
  {
   "cell_type": "code",
   "execution_count": 3,
   "metadata": {},
   "outputs": [],
   "source": [
    "# query02 = \"SELECT p.*, sh.surgery_date, sh.proc_id, sh.procedure_name, sh.performed, lr.component_name, lr.reference_unit, lr.numeric_value, lr.raw_value, lr.result_time FROM urology_hub.patient AS p INNER JOIN urology_hub.surgical_history AS sh ON p.pat_id = sh.pat_id LEFT JOIN urology_hub.lab_result AS lr ON p.pat_id = lr.pat_id AND LOWER(lr.component_name) LIKE '%hemoglobin%' WHERE LOWER(sh.procedure_name) LIKE '%nephrec%'\""
   ]
  },
  {
   "cell_type": "code",
   "execution_count": 4,
   "metadata": {},
   "outputs": [
    {
     "name": "stdout",
     "output_type": "stream",
     "text": [
      "Wall time: 15.6 s\n"
     ]
    }
   ],
   "source": [
    "# %%time\n",
    "# df_query02 = pd.read_sql(query02, connection)\n",
    "# connection.close()"
   ]
  },
  {
   "cell_type": "markdown",
   "metadata": {},
   "source": [
    "Path report entries to confirm type of procedure for patients undergoing nephrectomy"
   ]
  },
  {
   "cell_type": "code",
   "execution_count": null,
   "metadata": {},
   "outputs": [],
   "source": [
    "# query03 = \"SELECT p.*, sh.surgery_date, sh.proc_id, sh.procedure_name, sh.performed, pr.external_name, pr.value, pr.pat_enc_csn_id FROM urology_hub.patient AS p INNER JOIN urology_hub.surgical_history AS sh ON p.pat_id = sh.pat_id LEFT JOIN urology_hub.pathology_report AS pr ON p.pat_id = pr.pat_id AND (LOWER(pr.external_name) LIKE '%disclaimer%' OR LOWER(pr.external_name) LIKE '%gross description%' OR LOWER(pr.external_name) LIKE '%clinical history%' WHERE LOWER(sh.procedure_name) LIKE '%nephrec%'\" "
   ]
  },
  {
   "cell_type": "code",
   "execution_count": 3,
   "metadata": {},
   "outputs": [],
   "source": [
    "# query03 = \"SELECT p.*, sh.surgery_date, sh.proc_id, sh.procedure_name, sh.performed, pr.external_name, pr.value, pr.pat_enc_csn_id FROM urology_hub.patient AS p INNER JOIN urology_hub.surgical_history AS sh ON p.pat_id = sh.pat_id LEFT JOIN urology_hub.pathology_report AS pr ON p.pat_id = pr.pat_id AND (LOWER(pr.external_name) LIKE '%disclaimer%' OR LOWER(pr.external_name) LIKE '%gross description%' OR LOWER(pr.external_name) LIKE '%clinical history%') WHERE LOWER(sh.procedure_name) LIKE '%nephrec%'\"\n"
   ]
  },
  {
   "cell_type": "code",
   "execution_count": 4,
   "metadata": {},
   "outputs": [
    {
     "name": "stdout",
     "output_type": "stream",
     "text": [
      "Wall time: 2.2 s\n"
     ]
    }
   ],
   "source": [
    "# %%time\n",
    "# df_query03 = pd.read_sql(query03, connection)\n",
    "# connection.close()"
   ]
  },
  {
   "cell_type": "markdown",
   "metadata": {},
   "source": [
    "BMI on patients undergoing nephrectomy"
   ]
  },
  {
   "cell_type": "code",
   "execution_count": 18,
   "metadata": {},
   "outputs": [],
   "source": [
    "# query04 = \"SELECT p.*, sh.surgery_date, sh.proc_id, sh.procedure_name, sh.performed, ao.name, ao.observation_value, ao.contact_date FROM urology_hub.patient AS p INNER JOIN urology_hub.surgical_history AS sh ON p.pat_id = sh.pat_id LEFT JOIN urology_hub.ambulatory_observation AS ao ON p.pat_id = ao.pat_id AND ao.name LIKE '%BMI%' WHERE LOWER(sh.procedure_name) LIKE '%nephrec%'\""
   ]
  },
  {
   "cell_type": "code",
   "execution_count": 19,
   "metadata": {},
   "outputs": [
    {
     "name": "stdout",
     "output_type": "stream",
     "text": [
      "Wall time: 8.37 s\n"
     ]
    }
   ],
   "source": [
    "# %%time\n",
    "# df_query04 = pd.read_sql(query04, connection)\n",
    "# connection.close()"
   ]
  },
  {
   "cell_type": "markdown",
   "metadata": {},
   "source": [
    "Systolic blood pressure on patients undergoing nephrectomy"
   ]
  },
  {
   "cell_type": "code",
   "execution_count": 22,
   "metadata": {},
   "outputs": [],
   "source": [
    "# query05 = \"SELECT p.*, sh.surgery_date, sh.proc_id, sh.procedure_name, sh.performed, ao.name, ao.observation_value, ao.contact_date FROM urology_hub.patient AS p INNER JOIN urology_hub.surgical_history AS sh ON p.pat_id = sh.pat_id LEFT JOIN urology_hub.ambulatory_observation AS ao ON p.pat_id = ao.pat_id AND ao.name LIKE '%BP_SYSTOLIC%' WHERE LOWER(sh.procedure_name) LIKE '%nephrec%'\""
   ]
  },
  {
   "cell_type": "code",
   "execution_count": 23,
   "metadata": {},
   "outputs": [
    {
     "name": "stdout",
     "output_type": "stream",
     "text": [
      "Wall time: 3.87 s\n"
     ]
    }
   ],
   "source": [
    "# %%time\n",
    "# df_query05 = pd.read_sql(query05, connection)\n",
    "# connection.close()"
   ]
  },
  {
   "cell_type": "markdown",
   "metadata": {},
   "source": [
    "Diastolic blood pressure on patients undergoing nephrectomy"
   ]
  },
  {
   "cell_type": "code",
   "execution_count": 26,
   "metadata": {},
   "outputs": [],
   "source": [
    "# query06 = \"SELECT p.*, sh.surgery_date, sh.proc_id, sh.procedure_name, sh.performed, ao.name, ao.observation_value, ao.contact_date FROM urology_hub.patient AS p INNER JOIN urology_hub.surgical_history AS sh ON p.pat_id = sh.pat_id LEFT JOIN urology_hub.ambulatory_observation AS ao ON p.pat_id = ao.pat_id AND ao.name LIKE '%BP_DIASTOLIC%' WHERE LOWER(sh.procedure_name) LIKE '%nephrec%'\""
   ]
  },
  {
   "cell_type": "code",
   "execution_count": 27,
   "metadata": {},
   "outputs": [
    {
     "name": "stdout",
     "output_type": "stream",
     "text": [
      "Wall time: 3.18 s\n"
     ]
    }
   ],
   "source": [
    "# %%time\n",
    "# df_query06 = pd.read_sql(query06, connection)\n",
    "# connection.close()"
   ]
  },
  {
   "cell_type": "markdown",
   "metadata": {},
   "source": [
    "Social history of patients undergoing nephrectomy"
   ]
  },
  {
   "cell_type": "code",
   "execution_count": 7,
   "metadata": {},
   "outputs": [],
   "source": [
    "# query07 = \"SELECT p.*, sh.surgery_date, sh.proc_id, sh.procedure_name, sh.performed, soh.tobacco_use, soh.smokeless_tobacco_use, soh.iv_drug_use, soh.contact_date FROM urology_hub.patient AS p INNER JOIN urology_hub.surgical_history AS sh ON p.pat_id = sh.pat_id LEFT JOIN urology_hub.social_history AS soh ON p.pat_id = soh.pat_id\""
   ]
  },
  {
   "cell_type": "code",
   "execution_count": null,
   "metadata": {},
   "outputs": [],
   "source": [
    "# %%time\n",
    "# df_query07 = pd.read_sql(query07, connection)\n",
    "# connection.close()"
   ]
  },
  {
   "cell_type": "markdown",
   "metadata": {},
   "source": [
    "Diagnosis of patients undergoing nephrectomy (hypertenion HTN diabetes DM)"
   ]
  },
  {
   "cell_type": "code",
   "execution_count": 7,
   "metadata": {},
   "outputs": [],
   "source": [
    "query08_new = \"SELECT p.*, sh.surgery_date, sh.proc_id, sh.procedure_name, sh.performed, di.dx_name, di.entry_date, di.resolved_date, di.status_comment FROM urology_hub.patient AS p INNER JOIN urology_hub.surgical_history AS sh ON p.pat_id = sh.pat_id LEFT JOIN urology_hub.diagnosis AS di ON p.pat_id = di.pat_id AND (LOWER(di.dx_name) LIKE '%hypertension%' OR LOWER(di.dx_name) LIKE '%htn%' OR LOWER(di.dx_name) LIKE '%dm%' OR LOWER(di.dx_name) LIKE '%diabetes%')WHERE LOWER(sh.procedure_name) LIKE '%nephrec%'\""
   ]
  },
  {
   "cell_type": "code",
   "execution_count": 8,
   "metadata": {},
   "outputs": [
    {
     "name": "stdout",
     "output_type": "stream",
     "text": [
      "Wall time: 8.84 s\n"
     ]
    }
   ],
   "source": [
    "%%time\n",
    "df_query08_new = pd.read_sql(query08_new, connection)\n",
    "connection.close()"
   ]
  },
  {
   "cell_type": "markdown",
   "metadata": {},
   "source": [
    "Tobacco use"
   ]
  },
  {
   "cell_type": "code",
   "execution_count": 3,
   "metadata": {},
   "outputs": [],
   "source": [
    "#query09_new = \"SELECT p.*, sh.surgery_date, sh.proc_id, sh.procedure_name, sh.performed, soh.tobacco_use, soh.contact_date FROM urology_hub.patient AS p INNER JOIN urology_hub.surgical_history AS sh ON p.pat_id = sh.pat_id LEFT JOIN urology_hub.social_history AS soh ON p.pat_id = soh.pat_id WHERE LOWER(sh.procedure_name) LIKE '%nephrec%'\""
   ]
  },
  {
   "cell_type": "code",
   "execution_count": 4,
   "metadata": {},
   "outputs": [
    {
     "name": "stdout",
     "output_type": "stream",
     "text": [
      "Wall time: 9.84 s\n"
     ]
    }
   ],
   "source": [
    "#%%time\n",
    "#df_query09_new = pd.read_sql(query09_new, connection)\n",
    "#connection.close()"
   ]
  },
  {
   "cell_type": "markdown",
   "metadata": {},
   "source": [
    "Smokeless tobacco use"
   ]
  },
  {
   "cell_type": "code",
   "execution_count": 7,
   "metadata": {},
   "outputs": [],
   "source": [
    "#query10_new = \"SELECT p.*, sh.surgery_date, sh.proc_id, sh.procedure_name, sh.performed, soh.smokeless_tobacco_use, soh.contact_date FROM urology_hub.patient AS p INNER JOIN urology_hub.surgical_history AS sh ON p.pat_id = sh.pat_id LEFT JOIN urology_hub.social_history AS soh ON p.pat_id = soh.pat_id WHERE LOWER(sh.procedure_name) LIKE '%nephrec%'\""
   ]
  },
  {
   "cell_type": "code",
   "execution_count": 8,
   "metadata": {},
   "outputs": [
    {
     "name": "stdout",
     "output_type": "stream",
     "text": [
      "Wall time: 8.5 s\n"
     ]
    }
   ],
   "source": [
    "#%%time\n",
    "#df_query10_new = pd.read_sql(query10_new, connection)\n",
    "#connection.close()"
   ]
  },
  {
   "cell_type": "markdown",
   "metadata": {},
   "source": [
    "IV drug use"
   ]
  },
  {
   "cell_type": "code",
   "execution_count": 11,
   "metadata": {},
   "outputs": [],
   "source": [
    "#query11_new = \"SELECT p.*, sh.surgery_date, sh.proc_id, sh.procedure_name, sh.performed, soh.iv_drug_use, soh.contact_date FROM urology_hub.patient AS p INNER JOIN urology_hub.surgical_history AS sh ON p.pat_id = sh.pat_id LEFT JOIN urology_hub.social_history AS soh ON p.pat_id = soh.pat_id WHERE LOWER(sh.procedure_name) LIKE '%nephrec%'\""
   ]
  },
  {
   "cell_type": "code",
   "execution_count": 12,
   "metadata": {},
   "outputs": [
    {
     "name": "stdout",
     "output_type": "stream",
     "text": [
      "Wall time: 8.98 s\n"
     ]
    }
   ],
   "source": [
    "#%%time\n",
    "#df_query11_new = pd.read_sql(query11_new, connection)\n",
    "#connection.close()"
   ]
  },
  {
   "cell_type": "markdown",
   "metadata": {},
   "source": [
    "Diagnostics - extra "
   ]
  },
  {
   "cell_type": "code",
   "execution_count": 15,
   "metadata": {},
   "outputs": [],
   "source": [
    "#query12_new = \"SELECT p.*, sh.surgery_date, sh.proc_id, sh.procedure_name, sh.performed, di.dx_name, di.entry_date, di.status_comment FROM urology_hub.patient AS p INNER JOIN urology_hub.surgical_history AS sh ON p.pat_id = sh.pat_id LEFT JOIN urology_hub.diagnosis AS di ON p.pat_id = di.pat_id AND (LOWER(di.dx_name) LIKE '%dialysis%' OR LOWER(di.dx_name) LIKE '%esrd%') WHERE LOWER(sh.procedure_name) LIKE '%nephrec%'\""
   ]
  },
  {
   "cell_type": "code",
   "execution_count": 16,
   "metadata": {},
   "outputs": [
    {
     "name": "stdout",
     "output_type": "stream",
     "text": [
      "Wall time: 8.77 s\n"
     ]
    }
   ],
   "source": [
    "#%%time\n",
    "#df_query12_new = pd.read_sql(query12_new, connection)\n",
    "#connection.close()"
   ]
  },
  {
   "cell_type": "code",
   "execution_count": 19,
   "metadata": {},
   "outputs": [],
   "source": [
    "#query13_new = \"SELECT p.*, sh.surgery_date, sh.proc_id, sh.procedure_name, sh.performed, di.dx_name, di.entry_date, di.status_comment FROM urology_hub.patient AS p INNER JOIN urology_hub.surgical_history AS sh ON p.pat_id = sh.pat_id LEFT JOIN urology_hub.diagnosis AS di ON p.pat_id = di.pat_id AND (LOWER(di.dx_name) LIKE '%renal%') WHERE LOWER(sh.procedure_name) LIKE '%nephrec%'\""
   ]
  },
  {
   "cell_type": "code",
   "execution_count": 20,
   "metadata": {},
   "outputs": [
    {
     "name": "stdout",
     "output_type": "stream",
     "text": [
      "Wall time: 13.8 s\n"
     ]
    }
   ],
   "source": [
    "#%%time\n",
    "#df_query13_new = pd.read_sql(query13_new, connection)\n",
    "#connection.close()"
   ]
  },
  {
   "cell_type": "markdown",
   "metadata": {},
   "source": [
    "Getting pathology report dates"
   ]
  },
  {
   "cell_type": "code",
   "execution_count": 21,
   "metadata": {},
   "outputs": [],
   "source": [
    "# query14 = \"SELECT p.*, sh.surgery_date, sh.proc_id, sh.procedure_name, sh.performed, pr.external_name, pr.value, pr.pat_enc_csn_id, e.contact_date FROM urology_hub.patient AS p INNER JOIN urology_hub.surgical_history AS sh ON p.pat_id = sh.pat_id LEFT JOIN urology_hub.pathology_report AS pr ON p.pat_id = pr.pat_id AND (LOWER(pr.external_name) LIKE '%disclaimer%' OR LOWER(pr.external_name) LIKE '%gross description%' OR LOWER(pr.external_name) LIKE '%clinical history%') LEFT JOIN urology_hub.encounter AS e ON pr.pat_enc_csn_id = e.pat_enc_csn_id WHERE LOWER(sh.procedure_name) LIKE '%nephrec%';\""
   ]
  },
  {
   "cell_type": "code",
   "execution_count": 22,
   "metadata": {},
   "outputs": [
    {
     "name": "stdout",
     "output_type": "stream",
     "text": [
      "Wall time: 7.6 s\n"
     ]
    }
   ],
   "source": [
    "# %%time\n",
    "# df_query14 = pd.read_sql(query14, connection)\n",
    "# connection.close()"
   ]
  },
  {
   "cell_type": "markdown",
   "metadata": {},
   "source": [
    "Get op notes from urology specialty"
   ]
  },
  {
   "cell_type": "code",
   "execution_count": null,
   "metadata": {},
   "outputs": [],
   "source": [
    "query15 = \"SELECT p.*, sh.surgery_date, sh.proc_id, sh.procedure_name, sh.performed, nt.note_signed_time, nt.note_specialty, nt.note_type, nt.author_type, nt.full_text FROM urology_hub.patient AS p INNER JOIN urology_hub.surgical_history AS sh ON p.pat_id = sh.pat_id LEFT JOIN urology_hub.note AS nt ON p.pat_id = nt.pat_id AND (LOWER(nt.note_specialty) LIKE '%urology%' AND LOWER(nt.note_type) LIKE '%op note%') WHERE LOWER(sh.procedure_name) LIKE '%nephrec%'\""
   ]
  },
  {
   "cell_type": "code",
   "execution_count": null,
   "metadata": {},
   "outputs": [],
   "source": [
    "%%time\n",
    "df_query15 = pd.read_sql(query15, connection)\n",
    "connection.close()"
   ]
  },
  {
   "cell_type": "markdown",
   "metadata": {},
   "source": [
    "Get op notes from surgery specialty - just in case"
   ]
  },
  {
   "cell_type": "code",
   "execution_count": null,
   "metadata": {},
   "outputs": [],
   "source": [
    "query16 = \"SELECT p.*, sh.surgery_date, sh.proc_id, sh.procedure_name, sh.performed, nt.note_signed_time, nt.note_specialty, nt.note_type, nt.author_type, nt.full_text FROM urology_hub.patient AS p INNER JOIN urology_hub.surgical_history AS sh ON p.pat_id = sh.pat_id LEFT JOIN urology_hub.note AS nt ON p.pat_id = nt.pat_id AND (LOWER(nt.note_specialty) LIKE '%surgery%' AND LOWER(nt.note_type) LIKE '%op note%') WHERE LOWER(sh.procedure_name) LIKE '%nephrec%'\""
   ]
  },
  {
   "cell_type": "code",
   "execution_count": null,
   "metadata": {},
   "outputs": [],
   "source": [
    "%%time\n",
    "df_query16 = pd.read_sql(query16, connection)\n",
    "connection.close()"
   ]
  },
  {
   "cell_type": "markdown",
   "metadata": {},
   "source": [
    "### Saving files"
   ]
  },
  {
   "cell_type": "code",
   "execution_count": 6,
   "metadata": {},
   "outputs": [
    {
     "name": "stdout",
     "output_type": "stream",
     "text": [
      "DataFrame saved to Excel successfully!\n"
     ]
    }
   ],
   "source": [
    "# # Save the DataFrames to Excel\n",
    "# df_query01.to_excel(\"df_capstone_query01.xlsx\", index=False)  # Set index=False to avoid saving the DataFrame index as a separate column\n",
    "# print(\"DataFrame saved to Excel successfully!\")"
   ]
  },
  {
   "cell_type": "code",
   "execution_count": 5,
   "metadata": {},
   "outputs": [
    {
     "name": "stdout",
     "output_type": "stream",
     "text": [
      "DataFrame saved to Excel successfully!\n"
     ]
    }
   ],
   "source": [
    "# Save the DataFrames to Excel\n",
    "# df_query02.to_excel(\"df_capstone_query02.xlsx\", index=False)  # Set index=False to avoid saving the DataFrame index as a separate column\n",
    "# print(\"DataFrame saved to Excel successfully!\")"
   ]
  },
  {
   "cell_type": "code",
   "execution_count": 5,
   "metadata": {},
   "outputs": [
    {
     "name": "stdout",
     "output_type": "stream",
     "text": [
      "DataFrame saved to Excel successfully!\n"
     ]
    }
   ],
   "source": [
    "# Save the DataFrames to Excel\n",
    "# df_query03.to_excel(\"df_capstone_query03.xlsx\", index=False)  # Set index=False to avoid saving the DataFrame index as a separate column\n",
    "# print(\"DataFrame saved to Excel successfully!\")"
   ]
  },
  {
   "cell_type": "code",
   "execution_count": 20,
   "metadata": {},
   "outputs": [
    {
     "name": "stdout",
     "output_type": "stream",
     "text": [
      "DataFrame saved to Excel successfully!\n"
     ]
    }
   ],
   "source": [
    "# # Save the DataFrames to Excel\n",
    "# df_query04.to_excel(\"df_capstone_query04.xlsx\", index=False)  # Set index=False to avoid saving the DataFrame index as a separate column\n",
    "# print(\"DataFrame saved to Excel successfully!\")"
   ]
  },
  {
   "cell_type": "code",
   "execution_count": 24,
   "metadata": {},
   "outputs": [
    {
     "name": "stdout",
     "output_type": "stream",
     "text": [
      "DataFrame saved to Excel successfully!\n"
     ]
    }
   ],
   "source": [
    "# # Save the DataFrames to Excel\n",
    "# df_query05.to_excel(\"df_capstone_query05.xlsx\", index=False)  # Set index=False to avoid saving the DataFrame index as a separate column\n",
    "# print(\"DataFrame saved to Excel successfully!\")"
   ]
  },
  {
   "cell_type": "code",
   "execution_count": 28,
   "metadata": {},
   "outputs": [
    {
     "name": "stdout",
     "output_type": "stream",
     "text": [
      "DataFrame saved to Excel successfully!\n"
     ]
    }
   ],
   "source": [
    "# # Save the DataFrames to Excel\n",
    "# df_query06.to_excel(\"df_capstone_query06.xlsx\", index=False)  # Set index=False to avoid saving the DataFrame index as a separate column\n",
    "# print(\"DataFrame saved to Excel successfully!\")"
   ]
  },
  {
   "cell_type": "code",
   "execution_count": null,
   "metadata": {},
   "outputs": [],
   "source": [
    "# Save the DataFrames to Excel\n",
    "# df_query07.to_excel(\"df_capstone_query07.xlsx\", index=False)  # Set index=False to avoid saving the DataFrame index as a separate column\n",
    "# print(\"DataFrame saved to Excel successfully!\")"
   ]
  },
  {
   "cell_type": "code",
   "execution_count": null,
   "metadata": {},
   "outputs": [],
   "source": [
    "# Save the DataFrames to Excel\n",
    "df_query08_new.to_excel(\"df_capstone_query08_new.xlsx\", index=False)  # Set index=False to avoid saving the DataFrame index as a separate column\n",
    "print(\"DataFrame saved to Excel successfully!\")"
   ]
  },
  {
   "cell_type": "code",
   "execution_count": 5,
   "metadata": {},
   "outputs": [
    {
     "name": "stdout",
     "output_type": "stream",
     "text": [
      "DataFrame saved to Excel successfully!\n"
     ]
    }
   ],
   "source": [
    "# Save the DataFrames to Excel\n",
    "#df_query09_new.to_excel(\"df_capstone_query09_new.xlsx\", index=False)  # Set index=False to avoid saving the DataFrame index as a separate column\n",
    "#print(\"DataFrame saved to Excel successfully!\")"
   ]
  },
  {
   "cell_type": "code",
   "execution_count": 9,
   "metadata": {},
   "outputs": [
    {
     "name": "stdout",
     "output_type": "stream",
     "text": [
      "DataFrame saved to Excel successfully!\n"
     ]
    }
   ],
   "source": [
    "# Save the DataFrames to Excel\n",
    "#df_query10_new.to_excel(\"df_capstone_query10_new.xlsx\", index=False)  # Set index=False to avoid saving the DataFrame index as a separate column\n",
    "#print(\"DataFrame saved to Excel successfully!\")"
   ]
  },
  {
   "cell_type": "code",
   "execution_count": 13,
   "metadata": {},
   "outputs": [
    {
     "name": "stdout",
     "output_type": "stream",
     "text": [
      "DataFrame saved to Excel successfully!\n"
     ]
    }
   ],
   "source": [
    "# Save the DataFrames to Excel\n",
    "#df_query11_new.to_excel(\"df_capstone_query11_new.xlsx\", index=False)  # Set index=False to avoid saving the DataFrame index as a separate column\n",
    "#print(\"DataFrame saved to Excel successfully!\")"
   ]
  },
  {
   "cell_type": "code",
   "execution_count": 17,
   "metadata": {},
   "outputs": [
    {
     "name": "stdout",
     "output_type": "stream",
     "text": [
      "DataFrame saved to Excel successfully!\n"
     ]
    }
   ],
   "source": [
    "# Save the DataFrames to Excel\n",
    "#df_query12_new.to_excel(\"df_capstone_query12_new.xlsx\", index=False)  # Set index=False to avoid saving the DataFrame index as a separate column\n",
    "#print(\"DataFrame saved to Excel successfully!\")"
   ]
  },
  {
   "cell_type": "code",
   "execution_count": 21,
   "metadata": {},
   "outputs": [
    {
     "name": "stdout",
     "output_type": "stream",
     "text": [
      "DataFrame saved to Excel successfully!\n"
     ]
    }
   ],
   "source": [
    "# Save the DataFrames to Excel\n",
    "#df_query13_new.to_excel(\"df_capstone_query13_new.xlsx\", index=False)  # Set index=False to avoid saving the DataFrame index as a separate column\n",
    "#print(\"DataFrame saved to Excel successfully!\")"
   ]
  },
  {
   "cell_type": "code",
   "execution_count": 23,
   "metadata": {},
   "outputs": [
    {
     "name": "stdout",
     "output_type": "stream",
     "text": [
      "DataFrame saved to Excel successfully!\n"
     ]
    }
   ],
   "source": [
    "# Save the DataFrames to Excel\n",
    "# df_query14.to_excel(\"df_capstone_query14.xlsx\", index=False)  # Set index=False to avoid saving the DataFrame index as a separate column\n",
    "# print(\"DataFrame saved to Excel successfully!\")"
   ]
  },
  {
   "cell_type": "code",
   "execution_count": null,
   "metadata": {},
   "outputs": [],
   "source": [
    "# Save the DataFrames to Excel\n",
    "df_query15.to_excel(\"df_capstone_query15.xlsx\", index=False)  # Set index=False to avoid saving the DataFrame index as a separate column\n",
    "print(\"DataFrame saved to Excel successfully!\")"
   ]
  },
  {
   "cell_type": "code",
   "execution_count": null,
   "metadata": {},
   "outputs": [],
   "source": [
    "# Save the DataFrames to Excel\n",
    "df_query16.to_excel(\"df_capstone_query16.xlsx\", index=False)  # Set index=False to avoid saving the DataFrame index as a separate column\n",
    "print(\"DataFrame saved to Excel successfully!\")"
   ]
  }
 ],
 "metadata": {
  "kernelspec": {
   "display_name": "Python 3 (ipykernel)",
   "language": "python",
   "name": "python3"
  },
  "language_info": {
   "codemirror_mode": {
    "name": "ipython",
    "version": 3
   },
   "file_extension": ".py",
   "mimetype": "text/x-python",
   "name": "python",
   "nbconvert_exporter": "python",
   "pygments_lexer": "ipython3",
   "version": "3.10.9"
  }
 },
 "nbformat": 4,
 "nbformat_minor": 4
}
