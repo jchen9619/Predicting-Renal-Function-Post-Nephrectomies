{
 "cells": [
  {
   "cell_type": "code",
   "execution_count": 1,
   "id": "c1abf206",
   "metadata": {
    "id": "c1abf206"
   },
   "outputs": [],
   "source": [
    "import pandas as pd\n",
    "import numpy as np\n",
    "import matplotlib.pyplot as plt\n",
    "import seaborn as sns\n",
    "from datetime import datetime\n",
    "import warnings\n",
    "warnings.filterwarnings('ignore')"
   ]
  },
  {
   "cell_type": "code",
   "execution_count": 2,
   "id": "60b07810",
   "metadata": {
    "id": "60b07810"
   },
   "outputs": [],
   "source": [
    "# Reading in the data\n",
    "#gfr = pd.read_excel(\"df_capstone_query01.xlsx\")\n",
    "gfr_opdates = pd.read_csv(\"gfr_opdates.csv\")\n",
    "gfr_opdates=gfr_opdates.drop(columns=['Unnamed: 0'])\n",
    "path_date=pd.read_csv(\"nephrectomies_w_dates_from_path.csv\")\n",
    "op_note=pd.read_csv('op_note_dates.csv')\n",
    "op_note=op_note.drop(columns=['Unnamed: 0'])"
   ]
  },
  {
   "cell_type": "code",
   "execution_count": 3,
   "id": "26ab5ac9",
   "metadata": {
    "scrolled": true
   },
   "outputs": [
    {
     "name": "stdout",
     "output_type": "stream",
     "text": [
      "Number of total patients - initial cohort: 2915\n"
     ]
    }
   ],
   "source": [
    "print(f\"Number of total patients - initial cohort: {gfr_opdates.pat_id.nunique()}\")"
   ]
  },
  {
   "cell_type": "markdown",
   "id": "fcf76b66",
   "metadata": {},
   "source": [
    "## Filter to eligible GFRs"
   ]
  },
  {
   "cell_type": "markdown",
   "id": "2a543848",
   "metadata": {},
   "source": [
    "### Exclude age<18:"
   ]
  },
  {
   "cell_type": "code",
   "execution_count": 4,
   "id": "5d0d3260",
   "metadata": {},
   "outputs": [],
   "source": [
    "def calculate_age(birth_date, surgery_date):\n",
    "    age = surgery_date.year - birth_date.year - ((surgery_date.month, surgery_date.day) < (birth_date.month, birth_date.day))\n",
    "    return age"
   ]
  },
  {
   "cell_type": "code",
   "execution_count": 5,
   "id": "edb55a80",
   "metadata": {},
   "outputs": [
    {
     "name": "stdout",
     "output_type": "stream",
     "text": [
      "33 pat_id excluded from dataframe gfr_opdates, 2882 left.\n"
     ]
    }
   ],
   "source": [
    "gfr_opdates['surgery_date_op_conv'] = pd.to_datetime(gfr_opdates['surgery_date_op'], errors='coerce')\n",
    "gfr_opdates['birth_date_conv'] = pd.to_datetime(gfr_opdates['birth_date'], errors='coerce')\n",
    "\n",
    "gfr_opdates['age'] = gfr_opdates.apply(lambda row: calculate_age(row['birth_date_conv'], row['surgery_date_op_conv']), axis=1)\n",
    "gfr_opdates_18 = gfr_opdates[gfr_opdates.age>=18]\n",
    "pat_excl18=gfr_opdates['pat_id'].nunique() - gfr_opdates_18['pat_id'].nunique()\n",
    "print(f\"{pat_excl18} pat_id excluded from dataframe gfr_opdates, {gfr_opdates_18['pat_id'].nunique()} left.\")"
   ]
  },
  {
   "cell_type": "markdown",
   "id": "60700c52",
   "metadata": {},
   "source": [
    "**Exclude from path_date**"
   ]
  },
  {
   "cell_type": "markdown",
   "id": "70d1b358",
   "metadata": {},
   "source": [
    "Add surgery_date_op to path_date"
   ]
  },
  {
   "cell_type": "code",
   "execution_count": 6,
   "id": "09622d07",
   "metadata": {},
   "outputs": [],
   "source": [
    "path_op = path_date.merge(op_note, on=['pat_id', 'surgery_date', 'procedure_name'], how='left')\n",
    "path_op = path_op.drop(columns=['mrn_y', 'birth_date_y','pat_last_name_y', 'sex_y', 'ethnicity_y', 'race_y', 'living_status_y',\n",
    "       'death_date_y',  'proc_id_y','performed_y'])\n",
    "path_op.columns =path_op.columns.str.replace('_x$', '', regex=True)"
   ]
  },
  {
   "cell_type": "code",
   "execution_count": 7,
   "id": "d4cb8f97",
   "metadata": {
    "scrolled": true
   },
   "outputs": [
    {
     "name": "stdout",
     "output_type": "stream",
     "text": [
      "Given 1461 pat_ids from path_op\n",
      "23 pat_id excluded from dataframe path_op, left with 1438 pat_ids.\n"
     ]
    }
   ],
   "source": [
    "path_op['surgery_date_op_conv'] = pd.to_datetime(path_op['surgery_date_op'], errors='coerce')\n",
    "path_op['surgery_date_conv']=  pd.to_datetime(path_op['surgery_date'], format='%Y%m%d', errors='coerce')\n",
    "path_op['birth_date'] = pd.to_datetime(path_op['birth_date'], errors='coerce')\n",
    "\n",
    "#fill in path surgery_date_op_conv if available, surgery_date if not\n",
    "path_op['surgery_date_op_conv']=np.where(path_op['surgery_date_op_conv'].notna(), path_op['surgery_date_op_conv'], path_op['surgery_date_conv'])\n",
    "\n",
    "path_op['age'] = path_op.apply(lambda row: calculate_age(row['birth_date'], row['surgery_date_op_conv']), axis=1)\n",
    "path_op18 = path_op[path_op.age>=18]\n",
    "pat_excl18_path=path_op['pat_id'].nunique() - path_op18['pat_id'].nunique()\n",
    "print(f'Given {path_op.pat_id.nunique()} pat_ids from path_op')\n",
    "print(f\"{pat_excl18_path} pat_id excluded from dataframe path_op, left with {path_op18['pat_id'].nunique()} pat_ids.\")"
   ]
  },
  {
   "cell_type": "markdown",
   "id": "f196bd41",
   "metadata": {},
   "source": [
    "### Filter path_date_18 to gross description and clinical history with 'surgery_date_from_path' within 31 days of surgery_date"
   ]
  },
  {
   "cell_type": "code",
   "execution_count": 8,
   "id": "6ce9849b",
   "metadata": {},
   "outputs": [
    {
     "name": "stdout",
     "output_type": "stream",
     "text": [
      "345 pat_id excluded, left with 1093 pat_ids\n"
     ]
    }
   ],
   "source": [
    "path_op18 = path_op18[~path_op18['external_name'].str.contains(\"Disclaimer\", case=False)]\n",
    "path_op18['surgery_date_from_path_conv'] = pd.to_datetime(path_op18['surgery_date_from_path'], errors='coerce')\n",
    "path_op18['days_diff'] = (path_op18['surgery_date_from_path_conv'] - path_op18['surgery_date_op_conv']).dt.days\n",
    "path_date_sub = path_op18[abs(path_op18['days_diff']) <= 31]\n",
    "excl_path_date=path_op18.pat_id.nunique() - path_date_sub.pat_id.nunique() \n",
    "print(f'{excl_path_date} pat_id excluded, left with {path_date_sub.pat_id.nunique()} pat_ids')"
   ]
  },
  {
   "cell_type": "markdown",
   "id": "4a9bc75c",
   "metadata": {},
   "source": [
    "LEAVE OUT FOR NOW"
   ]
  },
  {
   "cell_type": "markdown",
   "id": "f0801d96",
   "metadata": {},
   "source": [
    "**<span style=\"background-color: lightgreen\">Since the value of the path report description does not indicate procedure was not performed, we will not filter out performed=0 at this stage but rather rely on classification of PN/RN from path notes.**"
   ]
  },
  {
   "cell_type": "code",
   "execution_count": 9,
   "id": "42235847",
   "metadata": {},
   "outputs": [
    {
     "name": "stdout",
     "output_type": "stream",
     "text": [
      "Path reports were reduced from 1461 to 1093 patients\n"
     ]
    }
   ],
   "source": [
    "print(f\"Path reports were reduced from {path_date.pat_id.nunique()} to {path_date_sub.pat_id.nunique()} patients\")"
   ]
  },
  {
   "cell_type": "markdown",
   "id": "f340bd9c",
   "metadata": {},
   "source": [
    "### Subset gfr_18 to have the same set of [pat_id, mrn, proc_id, procedure_name, surgery_date] in path_date_sub"
   ]
  },
  {
   "cell_type": "code",
   "execution_count": 10,
   "id": "f4c50eda",
   "metadata": {},
   "outputs": [],
   "source": [
    "gfr_sub_path=path_date_sub.merge(gfr_opdates_18, on = ['pat_id', 'mrn', 'proc_id','procedure_name','surgery_date'], how = 'left')\n",
    "#drop dup columns\n",
    "gfr_sub_path=gfr_sub_path.drop(columns = ['pat_last_name_y', 'sex_y', 'ethnicity_y', 'race_y', 'living_status_y', 'death_date_y', 'age_y', 'birth_date_y'])\n",
    "#delete _x in column names\n",
    "gfr_sub_path.columns = gfr_sub_path.columns.str.replace('_x$', '', regex=True)"
   ]
  },
  {
   "cell_type": "code",
   "execution_count": 11,
   "id": "9bc3dc31",
   "metadata": {
    "scrolled": false
   },
   "outputs": [
    {
     "name": "stdout",
     "output_type": "stream",
     "text": [
      "Number of patients after subsetting >18yo patients to path reports <=31 days from surgery date: 1093 \n"
     ]
    }
   ],
   "source": [
    "print(f\"Number of patients after subsetting >18yo patients to path reports <=31 days from surgery date: {gfr_sub_path.pat_id.nunique()} \")"
   ]
  },
  {
   "attachments": {
    "image-2.png": {
     "image/png": "[encoded data removed]"
    }
   },
   "cell_type": "markdown",
   "id": "5a3164e6",
   "metadata": {},
   "source": [
    "![image-2.png](attachment:image-2.png)"
   ]
  },
  {
   "cell_type": "code",
   "execution_count": 12,
   "id": "c595cc18",
   "metadata": {},
   "outputs": [],
   "source": [
    "#drop duplicate columns\n",
    "gfr_sub_path=gfr_sub_path.drop(columns=gfr_sub_path.filter(like='_y').columns)\n",
    "#gfr_sub_path.to_csv(\"gfr_path_cohort.csv\")"
   ]
  },
  {
   "cell_type": "markdown",
   "id": "11407afe",
   "metadata": {},
   "source": [
    "### Designate pre and post creatinines for each patient-surgery \n",
    "#### Pre: closest before (but not on day of) surgery\n",
    "#### Post: latest result within 2 weeks"
   ]
  },
  {
   "cell_type": "markdown",
   "id": "35bc9f1d",
   "metadata": {},
   "source": [
    "**Creatinine**"
   ]
  },
  {
   "cell_type": "code",
   "execution_count": 14,
   "id": "bca1f1db",
   "metadata": {},
   "outputs": [],
   "source": [
    "#gfr_sub_path=pd.read_csv('gfr_path_cohort.csv')\n",
    "creat=pd.read_excel(\"df_capstone_nephrect_creat.xlsx\")"
   ]
  },
  {
   "cell_type": "code",
   "execution_count": 15,
   "id": "675f69fc",
   "metadata": {},
   "outputs": [],
   "source": [
    "#subset to pat_ids in gfr_sub_path and where component_name=CREATININE   \n",
    "gfr_pats=list(gfr_sub_path.pat_id.value_counts().index)\n",
    "creat_sub=creat[(creat.pat_id.isin(gfr_pats)) &(creat.component_name=='CREATININE')]\n",
    "\n",
    "#convert to datatime for merge consistensy\n",
    "creat_sub['birth_date_conv']=pd.to_datetime(creat_sub['birth_date'], errors='coerce')\n",
    "creat_sub['surgery_date_conv']=pd.to_datetime(creat_sub['surgery_date'], errors='coerce')\n",
    "\n",
    "gfr_sub_path['surgery_date_conv']=pd.to_datetime(gfr_sub_path['surgery_date'], errors='coerce')"
   ]
  },
  {
   "cell_type": "code",
   "execution_count": 16,
   "id": "0c491296",
   "metadata": {},
   "outputs": [
    {
     "name": "stdout",
     "output_type": "stream",
     "text": [
      "1053 patients in the gfr cohort (with valid path report) have CREATININE values\n"
     ]
    }
   ],
   "source": [
    "print(f\"{creat_sub.pat_id.nunique()} patients in the gfr cohort (with valid path report) have CREATININE values\")"
   ]
  },
  {
   "cell_type": "markdown",
   "id": "8927219a",
   "metadata": {},
   "source": [
    "Get op_date from gfr_sub_path"
   ]
  },
  {
   "cell_type": "code",
   "execution_count": 17,
   "id": "f8232b82",
   "metadata": {
    "scrolled": false
   },
   "outputs": [],
   "source": [
    "creat_opdate = creat_sub.merge(gfr_sub_path[['pat_id', 'surgery_date_conv', 'surgery_date_op_conv','procedure_name']],\n",
    "                                              on=['pat_id','surgery_date_conv', 'procedure_name'], how='left')\n",
    "creat_opdate=creat_opdate.drop_duplicates(subset=['pat_id', 'surgery_date_conv', 'surgery_date_op_conv','component_name','result_time','procedure_name'])"
   ]
  },
  {
   "cell_type": "markdown",
   "id": "09f84ef0",
   "metadata": {},
   "source": [
    "**Calculate days_diff between result_time (creatinine) and surgery_date_op** "
   ]
  },
  {
   "cell_type": "code",
   "execution_count": 18,
   "id": "fe708339",
   "metadata": {},
   "outputs": [],
   "source": [
    "#creat_ = creat_opdate.copy()\n",
    "creat_opdate['result_time_conv'] = pd.to_datetime(creat_opdate['result_time'], format='%Y-%m-%d %H:%M:%S', errors='coerce')\n",
    "creat_opdate['days_diff'] = (creat_opdate['result_time_conv'] - creat_opdate['surgery_date_op_conv']).dt.days\n",
    "#creat_opdate = creat_opdate[(abs(creat_opdate['days_diff']) <= 31)]# & (abs(creat_opdate['days_diff']) != 0)]"
   ]
  },
  {
   "cell_type": "markdown",
   "id": "1454159f",
   "metadata": {},
   "source": [
    "**Assign preop**"
   ]
  },
  {
   "cell_type": "code",
   "execution_count": 19,
   "id": "bacbf403",
   "metadata": {
    "scrolled": false
   },
   "outputs": [],
   "source": [
    "creat_opdate = creat_opdate.dropna(subset=['days_diff'])\n",
    "creat_opdate['preop']=0\n",
    "# Filter the DataFrame for negative 'days_diff' values\n",
    "negative_days_diff = creat_opdate[creat_opdate['days_diff'] < 0]\n",
    "\n",
    "# Find the maximum 'days_diff' value within each group that is negative\n",
    "max_negative_days_diff = negative_days_diff.groupby(['pat_id', 'procedure_name', 'surgery_date_op_conv'])['days_diff'].max()\n",
    "\n",
    "# Convert the Series to a DataFrame to merge with the original DataFrame\n",
    "max_negative_days_diff_creat_opdate = max_negative_days_diff.reset_index()\n",
    "max_negative_days_diff_creat_opdate.rename(columns={'days_diff': 'max_days_diff'}, inplace=True)\n",
    "\n",
    "# Merge the maximum negative 'days_diff' values with the original DataFrame\n",
    "creat_opdate = creat_opdate.merge(max_negative_days_diff_creat_opdate, on=['pat_id', 'procedure_name', 'surgery_date_op_conv'], how='left')\n",
    "\n",
    "# Assign 1 to 'preop' where 'days_diff' is equal to the maximum negative 'days_diff' within its group\n",
    "creat_opdate['preop'] = (creat_opdate['days_diff'] == creat_opdate['max_days_diff']).astype(int)\n",
    "\n",
    "# Sort the DataFrame by 'result_time_conv' in descending order so the latest dates come first\n",
    "creat_opdate = creat_opdate.sort_values(by='result_time_conv', ascending=False)\n",
    "\n",
    "# Drop duplicates, keeping only the first entry (which is the latest due to the sorting) for each group\n",
    "creat_opdate = creat_opdate.drop_duplicates(subset=['pat_id', 'procedure_name', 'surgery_date_op_conv','days_diff', 'preop'], keep='first')"
   ]
  },
  {
   "cell_type": "code",
   "execution_count": 20,
   "id": "ae2c941f",
   "metadata": {},
   "outputs": [
    {
     "name": "stdout",
     "output_type": "stream",
     "text": [
      "47 records, 44 pat_ids have preop creatinine before 93 days before surgery.\n"
     ]
    }
   ],
   "source": [
    "print(f\"{len(creat_opdate[(creat_opdate.preop==1) & (creat_opdate.days_diff<-93)])} records, {creat_opdate[(creat_opdate.preop==1) & (creat_opdate.days_diff<-93)].pat_id.nunique()} pat_ids have preop creatinine before 93 days before surgery.\") "
   ]
  },
  {
   "cell_type": "markdown",
   "id": "c9690dfe",
   "metadata": {},
   "source": [
    "Exclude"
   ]
  },
  {
   "cell_type": "code",
   "execution_count": 21,
   "id": "423ebaa2",
   "metadata": {},
   "outputs": [],
   "source": [
    "creat_opdate_preop_recent=creat_opdate[creat_opdate.days_diff>=-93]"
   ]
  },
  {
   "cell_type": "code",
   "execution_count": 22,
   "id": "c7a725ec",
   "metadata": {},
   "outputs": [
    {
     "data": {
      "text/plain": [
       "1039"
      ]
     },
     "execution_count": 22,
     "metadata": {},
     "output_type": "execute_result"
    }
   ],
   "source": [
    "creat_opdate_preop_recent.pat_id.nunique()"
   ]
  },
  {
   "cell_type": "markdown",
   "id": "a520abd9",
   "metadata": {},
   "source": [
    "**Assign postop: within 2 weeks**"
   ]
  },
  {
   "cell_type": "code",
   "execution_count": 23,
   "id": "e4f37bd2",
   "metadata": {},
   "outputs": [],
   "source": [
    "def assign_post(df, min_days, max_days):\n",
    "    df= df.copy()\n",
    "    postop_range = df[(df['days_diff'] >= min_days) & (df['days_diff'] <= max_days)]\n",
    "\n",
    "    #within postop_range, find maximum result_time_conv for every [pat_id, procedure_name, surgery_date_from_path_] combo\n",
    "    max_result_time = postop_range.groupby(['pat_id', 'surgery_date_op_conv', 'procedure_name'])['result_time_conv'].max()\n",
    "\n",
    "    # Convert the Series to a DataFrame to merge with the original DataFrame\n",
    "    max_result_time = max_result_time.reset_index()\n",
    "    max_result_time.rename(columns={'result_time_conv': 'max_result_time'}, inplace=True)\n",
    "\n",
    "    df = df.merge(max_result_time, on=['pat_id', 'procedure_name', 'surgery_date_op_conv'], how='left')\n",
    "\n",
    "    # Assign 1 to 'preop' where 'days_diff' is equal to the maximum negative 'days_diff' within its group\n",
    "    df['postop'] = (df['result_time_conv'] == df['max_result_time']).astype(int)\n",
    "    return df"
   ]
  },
  {
   "cell_type": "markdown",
   "id": "40502d27",
   "metadata": {},
   "source": [
    "**Explore post-off cutoffs: match on pat_id, surgery_date, procedure_name, component_name (type of lab)** <br>\n"
   ]
  },
  {
   "cell_type": "code",
   "execution_count": 24,
   "id": "da1d10ba",
   "metadata": {},
   "outputs": [],
   "source": [
    "def pat_ids_avails(df, min_days, max_days):\n",
    "    print(f\"between {min_days} days and {max_days} days postop:\")\n",
    "    prepost_all = assign_post(df, min_days, max_days)\n",
    "    prepost_either = prepost_all[(prepost_all.preop==1)|(prepost_all.postop==1)]\n",
    "    print(f\"{prepost_either.pat_id.nunique()} patients have either pre or postop creatinine\")\n",
    "    \n",
    "    prepost_cnt=prepost_either.groupby(['pat_id', 'surgery_date_op_conv', 'procedure_name', 'component_name'])['preop', 'postop'].sum()\n",
    "    prepost_cnt.rename(columns={'preop': 'sum_preop', 'postop': 'sum_postop'}, inplace=True)\n",
    "    prepost_cnt=prepost_cnt.reset_index()\n",
    "    ids_both = prepost_cnt[(prepost_cnt.sum_preop!=0) & (prepost_cnt.sum_postop!=0)].pat_id.nunique()\n",
    "    print(f\"{ids_both} patients have creatinines both pre and post-op\")\n",
    "    return "
   ]
  },
  {
   "cell_type": "code",
   "execution_count": 25,
   "id": "39342fa7",
   "metadata": {
    "scrolled": false
   },
   "outputs": [
    {
     "name": "stdout",
     "output_type": "stream",
     "text": [
      "between 1 days and 17 days postop:\n",
      "1033 patients have either pre or postop creatinine\n",
      "844 patients have creatinines both pre and post-op\n"
     ]
    }
   ],
   "source": [
    "pat_ids_avails(creat_opdate_preop_recent, 1, 17) #within two week, count surgery_date_op creatinine as postop"
   ]
  },
  {
   "cell_type": "markdown",
   "id": "0f015073",
   "metadata": {},
   "source": [
    "### Match pre and postop"
   ]
  },
  {
   "cell_type": "markdown",
   "id": "437e9a5f",
   "metadata": {},
   "source": [
    "Assign age"
   ]
  },
  {
   "cell_type": "code",
   "execution_count": 27,
   "id": "09ba3aab",
   "metadata": {
    "scrolled": false
   },
   "outputs": [
    {
     "name": "stdout",
     "output_type": "stream",
     "text": [
      "196 patients are missing either pre or post creatinine\n"
     ]
    }
   ],
   "source": [
    "prepost_all= assign_post(creat_opdate_preop_recent, 1, 17) #parameterize \n",
    "prepost_all['age'] = prepost_all.apply(lambda row: calculate_age(row['birth_date_conv'], row['surgery_date_op_conv']), axis=1)\n",
    "prepost_either = prepost_all[(prepost_all.preop==1)|(prepost_all.postop==1)]\n",
    "prepost_cnt=prepost_either.groupby(['pat_id', 'age','sex','race','surgery_date_op_conv', 'procedure_name'])['preop', 'postop'].sum()\n",
    "prepost_cnt.rename(columns={'preop': 'sum_preop', 'postop': 'sum_postop'}, inplace=True)\n",
    "prepost_cnt=prepost_cnt.reset_index()\n",
    "miss_pre_or_post = prepost_cnt[(prepost_cnt.sum_preop==0) | (prepost_cnt.sum_postop==0)]\n",
    "#display(miss_pre_or_post)\n",
    "print(f\"{miss_pre_or_post.pat_id.nunique()} patients are missing either pre or post creatinine\")"
   ]
  },
  {
   "cell_type": "markdown",
   "id": "b2c93b85",
   "metadata": {},
   "source": [
    "**Exclude the [pat_id, surgery_date, procedure_name] combinations (196 patients) from prepost_all**"
   ]
  },
  {
   "cell_type": "code",
   "execution_count": 28,
   "id": "a6282b0c",
   "metadata": {
    "scrolled": true
   },
   "outputs": [
    {
     "name": "stdout",
     "output_type": "stream",
     "text": [
      "844 patients have no missing pre and post GFRs. Reduced from 1033 patients with either pre or post GFR\n"
     ]
    }
   ],
   "source": [
    "def filterout_df(df_to_filter, df_filter, keys):\n",
    "    # Perform a left join and keep only the records from df_to_filter that don't have a match in df_filter\n",
    "    filtered_df = pd.merge(df_to_filter, df_filter, on=keys, how='left', indicator=True)\n",
    "    filtered_df = filtered_df[filtered_df['_merge'] == 'left_only']\n",
    "    return filtered_df.drop(columns=['_merge'])\n",
    "\n",
    "# Define the keys for filtering\n",
    "keys = ['pat_id', 'surgery_date_op_conv', 'procedure_name']\n",
    "\n",
    "# Use the function to filter the DataFrame\n",
    "creat_both = filterout_df(prepost_either, miss_pre_or_post, keys)\n",
    "#drop dupe columns and rows\n",
    "cols=['pat_id','surgery_date_op_conv','procedure_name','result_time_conv','days_diff','component_name',\n",
    "      'raw_value', 'preop', 'postop']\n",
    "creat_both=creat_both.drop_duplicates(subset=cols)\n",
    "creat_both=creat_both.drop(columns=creat_both.filter(like='_y').columns)\n",
    "creat_both.columns=creat_both.columns.str.replace('_x', '')\n",
    "\n",
    "print(f\"{creat_both.pat_id.nunique()} patients have no missing pre and post GFRs. Reduced from {prepost_either.pat_id.nunique()} patients with either pre or post GFR\")"
   ]
  },
  {
   "cell_type": "markdown",
   "id": "3a21728b",
   "metadata": {},
   "source": [
    "**2. Further handle gfr_both: records with valid GFRs both pre and postop**"
   ]
  },
  {
   "cell_type": "markdown",
   "id": "4702a995",
   "metadata": {},
   "source": [
    "**2a. Subset the ['pat_id, 'surgery_date_conv', 'procedure_name'] that match on component_name**, like first two rows below:"
   ]
  },
  {
   "cell_type": "code",
   "execution_count": 29,
   "id": "b3f4b8d4",
   "metadata": {
    "scrolled": false
   },
   "outputs": [
    {
     "name": "stdout",
     "output_type": "stream",
     "text": [
      "Create subset from creat_both: 844 pat_ids with same type of pre and post GFRs\n"
     ]
    }
   ],
   "source": [
    "#temp=2 means matching component names from pre and post op, since this subset starts with patients with both pre and postop GFRs\n",
    "creat_both['temp']=creat_both['preop']+creat_both['postop']\n",
    "match_comp=creat_both.groupby(['pat_id','surgery_date_op_conv','age','sex','race','procedure_name','component_name'])['temp'].sum().reset_index()\n",
    "match_comp.rename(columns={'temp':'sum_temp'}, inplace=True)\n",
    "\n",
    "#pat_id, surgery_date, procedure_name and *component_name* with both pre and post GFRs (same type)\n",
    "same_comp_name=match_comp[match_comp.sum_temp==2]\n",
    "\n",
    "#create a subset by matching on [pat_id, surgery_date] combo\n",
    "creat_comp_match = creat_both.merge(same_comp_name, on=['pat_id','surgery_date_op_conv','procedure_name','component_name'], how='inner') #keys=['pat_id', 'surgery_date_op_conv', 'procedure_name']\n",
    "creat_comp_match.columns=creat_comp_match.columns.str.replace('_x', '')\n",
    "print(f\"Create subset from creat_both: {creat_comp_match.pat_id.nunique()} pat_ids with same type of pre and post GFRs\")"
   ]
  },
  {
   "cell_type": "code",
   "execution_count": 30,
   "id": "4a408c1a",
   "metadata": {
    "scrolled": false
   },
   "outputs": [],
   "source": [
    "creat_comp_match['pre_creat']=np.where(creat_comp_match['preop']==1, creat_comp_match['raw_value'],np.nan)\n",
    "creat_comp_match['post_creat']=np.where(creat_comp_match['postop']==1, creat_comp_match['raw_value'],np.nan)\n",
    "\n",
    "grouped_creat = creat_comp_match.groupby(['pat_id', 'age','sex','race','surgery_date_op_conv', 'procedure_name', 'component_name'], as_index=False)\n",
    "creat_final = grouped_creat.agg({\n",
    "    'pre_creat': 'first',\n",
    "    'post_creat': 'first'})\n",
    "\n",
    "#convert to numeric to and drop nonnumeric values\n",
    "creat_final['pre_creat']=pd.to_numeric(creat_final['pre_creat'], errors = 'coerce')\n",
    "creat_final['post_creat']=pd.to_numeric(creat_final['post_creat'], errors = 'coerce')\n",
    "\n",
    "creat_final = creat_final.dropna(subset=['pre_creat'])\n",
    "creat_final = creat_final.dropna(subset=['post_creat'])"
   ]
  },
  {
   "cell_type": "code",
   "execution_count": 31,
   "id": "d3459cfe",
   "metadata": {
    "scrolled": false
   },
   "outputs": [
    {
     "name": "stdout",
     "output_type": "stream",
     "text": [
      "843 pat_ids with pre and post creatinine\n"
     ]
    }
   ],
   "source": [
    "print(f\"{creat_final.pat_id.nunique()} pat_ids with pre and post creatinine\")\n",
    "#display(creat_final)"
   ]
  },
  {
   "cell_type": "markdown",
   "id": "991d6e44",
   "metadata": {},
   "source": [
    "Export"
   ]
  },
  {
   "cell_type": "code",
   "execution_count": null,
   "id": "c19cb97a",
   "metadata": {},
   "outputs": [],
   "source": [
    "creat_final.to_csv(\"creat_final_cohort.csv\")"
   ]
  },
  {
   "cell_type": "code",
   "execution_count": null,
   "id": "74ead36e",
   "metadata": {},
   "outputs": [],
   "source": []
  }
 ],
 "metadata": {
  "accelerator": "TPU",
  "colab": {
   "provenance": []
  },
  "kernelspec": {
   "display_name": "Python 3 (ipykernel)",
   "language": "python",
   "name": "python3"
  },
  "language_info": {
   "codemirror_mode": {
    "name": "ipython",
    "version": 3
   },
   "file_extension": ".py",
   "mimetype": "text/x-python",
   "name": "python",
   "nbconvert_exporter": "python",
   "pygments_lexer": "ipython3",
   "version": "3.10.9"
  }
 },
 "nbformat": 4,
 "nbformat_minor": 5
}
